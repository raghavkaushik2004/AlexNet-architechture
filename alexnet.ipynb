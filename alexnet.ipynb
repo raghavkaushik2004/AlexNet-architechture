{
  "nbformat": 4,
  "nbformat_minor": 0,
  "metadata": {
    "colab": {
      "provenance": [],
      "authorship_tag": "ABX9TyOZEfpRpO5oy3/hr432m7LI",
      "include_colab_link": true
    },
    "kernelspec": {
      "name": "python3",
      "display_name": "Python 3"
    },
    "language_info": {
      "name": "python"
    }
  },
  "cells": [
    {
      "cell_type": "markdown",
      "metadata": {
        "id": "view-in-github",
        "colab_type": "text"
      },
      "source": [
        "<a href=\"https://colab.research.google.com/github/raghavkaushik2004/AlexNet-architechture/blob/main/alexnet.ipynb\" target=\"_parent\"><img src=\"https://colab.research.google.com/assets/colab-badge.svg\" alt=\"Open In Colab\"/></a>"
      ]
    },
    {
      "cell_type": "code",
      "execution_count": 14,
      "metadata": {
        "id": "bKFQIKeX2FkQ"
      },
      "outputs": [],
      "source": [
        "import tensorflow as tf\n",
        "from keras import datasets, layers, models, losses\n"
      ]
    },
    {
      "cell_type": "code",
      "source": [
        "(x_train, y_train), (x_test, y_test) = datasets.mnist.load_data()"
      ],
      "metadata": {
        "id": "f8YAaVTY2Rwg"
      },
      "execution_count": 12,
      "outputs": []
    },
    {
      "cell_type": "markdown",
      "source": [
        "Now, the dataset MNIST has the dimensions of 28x28, so for making the number of channels = 3, we repeat it 3 times to get 28x28x3. So we have to reshape it to 227x227x3. The paper says it is 224x224x3, but for the math to come out right(The original paper said different numbers, but Andrej Karpathy, the former head of computer vision at Tesla, said it should be 227×227×3 (he said Alex didn't describe why he put 224×224×3)). So, we reshape the image size to 227x227x3."
      ],
      "metadata": {
        "id": "7M-iF3Co7Ekc"
      }
    },
    {
      "cell_type": "code",
      "source": [
        "# x_train = tf.pad(x_train, [[0, 0], [98, 97], [98, 97]]) / 255\n",
        "# x_train = tf.expand_dims(x_train, axis = -1)\n",
        "# x_train = tf.repeat(x_train, 3, axis = -1)\n",
        "# x_train = tf.image.resize(x_train, (255, 255))\n",
        "\n",
        "# Colab crashes due to RAM constraints"
      ],
      "metadata": {
        "id": "jBymKu6u63mw"
      },
      "execution_count": null,
      "outputs": []
    },
    {
      "cell_type": "code",
      "source": [
        "x_train = tf.pad(x_train, [[0, 0], [2,2], [2,2]])/255\n",
        "x_test = tf.pad(x_test, [[0, 0], [2,2], [2,2]])/255\n",
        "x_train = tf.expand_dims(x_train, axis=3)\n",
        "x_test = tf.expand_dims(x_test, axis=3)\n",
        "x_train = tf.repeat(x_train, 3, axis=3)\n",
        "x_test = tf.repeat(x_test, 3, axis=3)\n",
        "x_val = x_train[-2000:,:]\n",
        "y_val = y_train[-2000:]\n",
        "x_train = x_train[:-2000,:]\n",
        "y_train = y_train[:-2000]"
      ],
      "metadata": {
        "id": "bTcQWzy0GgvO"
      },
      "execution_count": 13,
      "outputs": []
    },
    {
      "cell_type": "code",
      "source": [],
      "metadata": {
        "id": "uoHJ0TprHDi-"
      },
      "execution_count": null,
      "outputs": []
    }
  ]
}